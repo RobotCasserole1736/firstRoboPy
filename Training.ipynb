{
 "cells": [
  {
   "cell_type": "code",
   "execution_count": 1,
   "id": "e19765aa",
   "metadata": {},
   "outputs": [
    {
     "name": "stdout",
     "output_type": "stream",
     "text": [
      "[Peachy!]test\n"
     ]
    }
   ],
   "source": [
    "test\n"
   ]
  },
  {
   "cell_type": "code",
   "execution_count": null,
   "id": "cc035280",
   "metadata": {},
   "outputs": [],
   "source": []
  }
 ],
 "metadata": {
  "kernelspec": {
   "display_name": "RobotPy Training",
   "language": "text",
   "name": "robotpytraining"
  },
  "language_info": {
   "file_extension": ".py",
   "mimetype": "text/py",
   "name": "echo"
  }
 },
 "nbformat": 4,
 "nbformat_minor": 5
}
